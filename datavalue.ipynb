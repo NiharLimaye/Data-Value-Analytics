{
 "cells": [
  {
   "cell_type": "markdown",
   "metadata": {},
   "source": [
    "# Load survey data in DB"
   ]
  },
  {
   "cell_type": "code",
   "execution_count": 37,
   "metadata": {},
   "outputs": [],
   "source": [
    "import mysql.connector as mysql\n",
    "\n",
    "db = mysql.connect(\n",
    "    host = \"localhost\",\n",
    "    user = \"root\",\n",
    "    passwd = \"Nihar@30\",\n",
    "    database = \"myvoltsone\"\n",
    ")\n",
    "\n",
    "cursor = db.cursor()\n",
    "\n",
    "# query 1\n",
    "query1 = \"DROP TABLE IF EXISTS googleresponse\"\n",
    "cursor.execute(query1)\n",
    "\n",
    "# query 2\n",
    "query2 = \"DROP TABLE IF EXISTS techrecords\"\n",
    "cursor.execute(query2)\n",
    "\n",
    "# query 3\n",
    "query3 = \"DROP TABLE IF EXISTS valuecount\"\n",
    "cursor.execute(query3)"
   ]
  },
  {
   "cell_type": "code",
   "execution_count": 38,
   "metadata": {},
   "outputs": [
    {
     "name": "stdout",
     "output_type": "stream",
     "text": [
      "   Id                                         SurveyQues   SurveyAns  \\\n",
      "0   1   Which database table stores the highest records?   Amazon DB   \n",
      "1   2         Which data is capable to produce new data?  Pricing DB   \n",
      "2   3  Which database table can join with most of the...  Pricing DB   \n",
      "3   4    Which database table contains encrypted values?    Sales DB   \n",
      "4   5  Which database table has the least duplicate v...  Pricing DB   \n",
      "5   6  Which database table is used more frequently i...   Amazon DB   \n",
      "6   7        Which database table has least null values?  Pricing DB   \n",
      "7   8  Which data loss will create legal consequences...    Sales DB   \n",
      "8   9  Which database table information value falls i...   Amazon DB   \n",
      "9  10    Which database is unique for your organization?  Pricing DB   \n",
      "\n",
      "            Metric     Dimension  \n",
      "0     Record_Count        Volume  \n",
      "1         New_Info    Rebuilding  \n",
      "2  Interconnection        Volume  \n",
      "3       Encryption      Security  \n",
      "4       Duplicates       Quality  \n",
      "5        Most_Used         Usage  \n",
      "6      Null_Values       Quality  \n",
      "7  Confidentiality   Legislative  \n",
      "8       Shelf_Life          Time  \n",
      "9      Unique_Data  Market_Value  \n"
     ]
    }
   ],
   "source": [
    "# write google responses in DB\n",
    "import pandas as pd\n",
    "from sqlalchemy import create_engine\n",
    "column_names= ['Id','SurveyQues','SurveyAns','Metric','Dimension']\n",
    "df = pd.read_csv(r'H:/DCU Study/MCM Pracs/Dataset/googleresponse.csv', header = None, names = column_names)\n",
    "print(df)\n",
    "engine = create_engine('mysql://root:Nihar@30@localhost:3306/myvoltsone')\n",
    "with engine.connect() as conn, conn.begin():\n",
    "    df.to_sql('googleresponse', conn, if_exists='append', index=False)"
   ]
  },
  {
   "cell_type": "markdown",
   "metadata": {},
   "source": [
    "# Metrics Script"
   ]
  },
  {
   "cell_type": "code",
   "execution_count": 39,
   "metadata": {},
   "outputs": [
    {
     "name": "stdout",
     "output_type": "stream",
     "text": [
      "  Techoutput        Metric Dimension\n",
      "0  Amazon DB  Record_Count    Volume\n"
     ]
    }
   ],
   "source": [
    "# script to find Volume-record count \n",
    "\n",
    "import mysql.connector as mysql\n",
    "\n",
    "db = mysql.connect(\n",
    "    host = \"localhost\",\n",
    "    user = \"root\",\n",
    "    passwd = \"Nihar@30\",\n",
    "    database = \"myvoltsone\"\n",
    ")\n",
    "\n",
    "cursor = db.cursor()\n",
    "\n",
    "# query 1\n",
    "query1 = \"SELECT count(*) FROM pi_price_reduction\"\n",
    "cursor.execute(query1)\n",
    "records1 = cursor.fetchall()\n",
    "\n",
    "# query 2\n",
    "query2 = \"SELECT count(*) FROM amazonuk_listings\"\n",
    "cursor.execute(query2)\n",
    "records2 = cursor.fetchall()\n",
    "\n",
    "# query 3\n",
    "query3 = \"SELECT count(*) FROM sales\"\n",
    "cursor.execute(query3)\n",
    "records3 = cursor.fetchall()\n",
    "\n",
    "a=records1\n",
    "b=records2\n",
    "c=records3\n",
    "countPrice_element= 0\n",
    "countSales_element=0\n",
    "countAmazon_element=0\n",
    "\n",
    "if ( a > b ) and ( a > c ):  \n",
    "   print (\"Pricing DB;Record_Count;Volume\",file=open(\"H:/DCU Study/MCM Pracs/Dataset/Output/Volume_record_count.csv\", \"a\"))\n",
    "   countPrice_element = 1\n",
    "\n",
    "if ( b > c ) and (b > a):\n",
    "   print (\"Amazon DB;Record_Count;Volume\",file=open(\"H:/DCU Study/MCM Pracs/Dataset/Output/Volume_record_count.csv\", \"a\"))\n",
    "   countAmazon_element = 1\n",
    "\n",
    "\n",
    "if ( c > a ) and (c > b):\n",
    "   print (\"Sales DB;Record_Count;Volume\",file=open(\"H:/DCU Study/MCM Pracs/Dataset/Output/Volume_record_count.csv\", \"a\"))\n",
    "   countSales_element = 1\n",
    "\n",
    "\n",
    "from sqlalchemy import create_engine\n",
    "column_names= ['Techoutput','Metric','Dimension']\n",
    "df = pd.read_csv(r'H:/DCU Study/MCM Pracs/Dataset/Output/Volume_record_count.csv', header = None, names = column_names,delimiter=';')\n",
    "print(df)\n",
    "engine = create_engine('mysql://root:Nihar@30@localhost:3306/myvoltsone')\n",
    "with engine.connect() as conn, conn.begin():\n",
    "    df.to_sql('techrecords', conn, if_exists='append', index=False)"
   ]
  },
  {
   "cell_type": "code",
   "execution_count": 40,
   "metadata": {},
   "outputs": [
    {
     "name": "stdout",
     "output_type": "stream",
     "text": [
      "   Techoutput           Metric Dimension\n",
      "0  Pricing DB  Interconnection    Volume\n"
     ]
    }
   ],
   "source": [
    "# script to find Volume-interconnection\n",
    "\n",
    "import mysql.connector as mysql\n",
    "\n",
    "db = mysql.connect(\n",
    "    host = \"localhost\",\n",
    "    user = \"root\",\n",
    "    passwd = \"Nihar@30\",\n",
    "    database = \"myvoltsone\"\n",
    ")\n",
    "\n",
    "cursor = db.cursor()\n",
    "\n",
    "# query 1\n",
    "query1 = \"select count(1) from pi_price_reduction as a inner join amazonuk_listings as b on a.pi_id=b.id\"\n",
    "cursor.execute(query1)\n",
    "records4 = cursor.fetchall()\n",
    "\n",
    "d=records4\n",
    "\n",
    "if  d != 0:\n",
    "   print (\"Pricing DB;Interconnection;Volume\",file=open(\"H:/DCU Study/MCM Pracs/Dataset/Output/Volume_interconnection.csv\", \"a\"))\n",
    "   countPrice_element = countPrice_element+1\n",
    "       \n",
    "from sqlalchemy import create_engine\n",
    "column_names= ['Techoutput','Metric','Dimension']\n",
    "df = pd.read_csv(r'H:/DCU Study/MCM Pracs/Dataset/Output/Volume_interconnection.csv', header = None, names = column_names,delimiter=';')\n",
    "print(df)\n",
    "engine = create_engine('mysql://root:Nihar@30@localhost:3306/myvoltsone')\n",
    "with engine.connect() as conn, conn.begin():\n",
    "    df.to_sql('techrecords', conn, if_exists='append', index=False)\n"
   ]
  },
  {
   "cell_type": "code",
   "execution_count": 41,
   "metadata": {},
   "outputs": [
    {
     "name": "stdout",
     "output_type": "stream",
     "text": [
      "   Techoutput    Metric   Dimension\n",
      "0  Pricing DB  New_Info  Rebuilding\n"
     ]
    }
   ],
   "source": [
    "# script to find Rebuilding-new info\n",
    "\n",
    "import mysql.connector as mysql\n",
    "\n",
    "db = mysql.connect(\n",
    "    host = \"localhost\",\n",
    "    user = \"root\",\n",
    "    passwd = \"Nihar@30\",\n",
    "    database = \"myvoltsone\"\n",
    ")\n",
    "\n",
    "cursor = db.cursor()\n",
    "\n",
    "# query 1\n",
    "query1 = \"select price-(price*(reduction/100)) as discounted_price from product as a left outer join pi_price_reduction as b on b.pi_id=a.id where b.pi_id is not null\"\n",
    "cursor.execute(query1)\n",
    "records6 = cursor.fetchall()\n",
    "\n",
    "e=records6\n",
    "\n",
    "if  e != 0 :\n",
    "   print (\"Pricing DB;New_Info;Rebuilding\",file=open(\"H:/DCU Study/MCM Pracs/Dataset/Output/Rebuilding_new info.csv\", \"a\"))\n",
    "countPrice_element = countPrice_element+1\n",
    "\n",
    "from sqlalchemy import create_engine\n",
    "column_names= ['Techoutput','Metric','Dimension']\n",
    "df = pd.read_csv(r'H:/DCU Study/MCM Pracs/Dataset/Output/Rebuilding_new info.csv', header = None, names = column_names,delimiter=';')\n",
    "print(df)\n",
    "engine = create_engine('mysql://root:Nihar@30@localhost:3306/myvoltsone')\n",
    "with engine.connect() as conn, conn.begin():\n",
    "    df.to_sql('techrecords', conn, if_exists='append', index=False)\n"
   ]
  },
  {
   "cell_type": "code",
   "execution_count": 42,
   "metadata": {},
   "outputs": [
    {
     "name": "stdout",
     "output_type": "stream",
     "text": [
      "  Techoutput      Metric Dimension\n",
      "0   Sales DB  Encryption  Security\n"
     ]
    }
   ],
   "source": [
    "# script to find Security-Encryption\n",
    "\n",
    "import mysql.connector as mysql\n",
    "\n",
    "db = mysql.connect(\n",
    "    host = \"localhost\",\n",
    "    user = \"root\",\n",
    "    passwd = \"Nihar@30\",\n",
    "    database = \"myvoltsone\"\n",
    ")\n",
    "\n",
    "cursor = db.cursor()\n",
    "\n",
    "# query 1\n",
    "query1 = \"SELECT count(*) FROM myvoltsone.sales where email like '%U�qn�Q�O%'\";\n",
    "cursor.execute(query1)\n",
    "records7 = cursor.fetchall()\n",
    "\n",
    "f=records7\n",
    "\n",
    "if  f != 0 :\n",
    "   print (\"Sales DB;Encryption;Security\",file=open(\"H:/DCU Study/MCM Pracs/Dataset/Output/Security_Encryption.csv\", \"a\"))\n",
    "countSales_element = countSales_element+1\n",
    "\n",
    "from sqlalchemy import create_engine\n",
    "column_names= ['Techoutput','Metric','Dimension']\n",
    "df = pd.read_csv(r'H:/DCU Study/MCM Pracs/Dataset/Output/Security_Encryption.csv', header = None, names = column_names,delimiter=';')\n",
    "print(df)\n",
    "engine = create_engine('mysql://root:Nihar@30@localhost:3306/myvoltsone')\n",
    "with engine.connect() as conn, conn.begin():\n",
    "    df.to_sql('techrecords', conn, if_exists='append', index=False)\n"
   ]
  },
  {
   "cell_type": "code",
   "execution_count": 43,
   "metadata": {},
   "outputs": [
    {
     "name": "stdout",
     "output_type": "stream",
     "text": [
      "   Techoutput      Metric Dimension\n",
      "0  Pricing DB  Duplicates   Quality\n"
     ]
    }
   ],
   "source": [
    "# script to find Quality-Duplicates\n",
    "\n",
    "import mysql.connector as mysql\n",
    "\n",
    "db = mysql.connect(\n",
    "    host = \"localhost\",\n",
    "    user = \"root\",\n",
    "    passwd = \"Nihar@30\",\n",
    "    database = \"myvoltsone\"\n",
    ")\n",
    "\n",
    "cursor = db.cursor()\n",
    "\n",
    "# query 1\n",
    "query1 = \"select count(1)-count(distinct pi_id) as Duplicates from pi_price_reduction\"\n",
    "cursor.execute(query1)\n",
    "records1 = cursor.fetchall()\n",
    "\n",
    "# query 2\n",
    "query2 = \"select count(1)-count(distinct asin) as Duplicates from amazonuk_listings\"\n",
    "cursor.execute(query2)\n",
    "records2 = cursor.fetchall()\n",
    "\n",
    "# query 3\n",
    "query3 = \"select count(1)-count(distinct ordhid) as Duplicates from sales\"\n",
    "cursor.execute(query3)\n",
    "records3 = cursor.fetchall()\n",
    "\n",
    "g=records1 \n",
    "h=records2 \n",
    "i=records3 \n",
    "\n",
    "if ( g < h ) and ( g < i ):  \n",
    "   print (\"Pricing DB;Duplicates;Quality\",file=open(\"H:/DCU Study/MCM Pracs/Dataset/Output/Quality_Duplicates.csv\", \"a\"))\n",
    "countPrice_element = countPrice_element+1\n",
    "\n",
    "if (h < g):\n",
    "   print (\"Amazon DB;Duplicates;Quality\",file=open(\"H:/DCU Study/MCM Pracs/Dataset/Output/Quality_Duplicates.csv\", \"a\"))\n",
    "#countAmazon_element=countAmazon_element+1\n",
    "\n",
    "if (i < h):\n",
    "   print (\"Sales DB;Duplicates;Quality\",file=open(\"H:/DCU Study/MCM Pracs/Dataset/Output/Quality_Duplicates.csv\", \"a\"))\n",
    "#countSales_element = countSales_element+1\n",
    "\n",
    "from sqlalchemy import create_engine\n",
    "column_names= ['Techoutput','Metric','Dimension']\n",
    "df = pd.read_csv(r'H:/DCU Study/MCM Pracs/Dataset/Output/Quality_Duplicates.csv', header = None, names = column_names,delimiter=';')\n",
    "print(df)\n",
    "engine = create_engine('mysql://root:Nihar@30@localhost:3306/myvoltsone')\n",
    "with engine.connect() as conn, conn.begin():\n",
    "    df.to_sql('techrecords', conn, if_exists='append', index=False)\n"
   ]
  },
  {
   "cell_type": "code",
   "execution_count": 44,
   "metadata": {},
   "outputs": [
    {
     "name": "stdout",
     "output_type": "stream",
     "text": [
      "  Techoutput     Metric Dimension\n",
      "0  Amazon DB  Most_used     Usage\n"
     ]
    }
   ],
   "source": [
    "# script to find Usage-Most_used\n",
    "\n",
    "import mysql.connector as mysql\n",
    "\n",
    "db = mysql.connect(\n",
    "    host = \"localhost\",\n",
    "    user = \"root\",\n",
    "    passwd = \"Nihar@30\",\n",
    "    database = \"myvoltsone\"\n",
    ")\n",
    "\n",
    "cursor = db.cursor()\n",
    "\n",
    "# query 1\n",
    "query1 = \"select count(red_date) from pi_price_reduction\"\n",
    "cursor.execute(query1)\n",
    "records1 = cursor.fetchall()\n",
    "\n",
    "# query 2\n",
    "query2 = \"select count(last_update) from amazonuk_listings\"\n",
    "cursor.execute(query2)\n",
    "records2 = cursor.fetchall()\n",
    "\n",
    "# query 3\n",
    "query3 = \"select count(report_date) from sales\"\n",
    "cursor.execute(query3)\n",
    "records3 = cursor.fetchall()\n",
    "\n",
    "j=records1\n",
    "k=records2\n",
    "l=records3\n",
    "\n",
    "if ( j > k ) and ( j > l ):  \n",
    "   print (\"Pricing DB;Most_used;Usage\",file=open(\"H:/DCU Study/MCM Pracs/Dataset/Output/Usage_Most_used.csv\", \"a\"))\n",
    "   #countPrice_element = countPrice_element+1\n",
    "\n",
    "if ( k > l ) and (k > j):\n",
    "   print (\"Amazon DB;Most_used;Usage\",file=open(\"H:/DCU Study/MCM Pracs/Dataset/Output/Usage_Most_used.csv\", \"a\"))\n",
    "   countAmazon_element = countAmazon_element+1\n",
    "\n",
    "\n",
    "if ( l > j ) and (l > k):\n",
    "   print (\"Sales DB;Most_used;Usage\",file=open(\"H:/DCU Study/MCM Pracs/Dataset/Output/Usage_Most_used.csv\", \"a\"))\n",
    "   #countSales_element = countSales_element+1\n",
    "    \n",
    "from sqlalchemy import create_engine\n",
    "column_names= ['Techoutput','Metric','Dimension']\n",
    "df = pd.read_csv(r'H:/DCU Study/MCM Pracs/Dataset/Output/Usage_Most_used.csv', header = None, names = column_names,delimiter=';')\n",
    "print(df)\n",
    "engine = create_engine('mysql://root:Nihar@30@localhost:3306/myvoltsone')\n",
    "with engine.connect() as conn, conn.begin():\n",
    "    df.to_sql('techrecords', conn, if_exists='append', index=False)"
   ]
  },
  {
   "cell_type": "code",
   "execution_count": 45,
   "metadata": {},
   "outputs": [
    {
     "name": "stdout",
     "output_type": "stream",
     "text": [
      "   Techoutput       Metric Dimension\n",
      "0  Pricing DB  Null_values   Quality\n"
     ]
    }
   ],
   "source": [
    "# script to find Quality-Null_values\n",
    "\n",
    "import mysql.connector as mysql\n",
    "\n",
    "db = mysql.connect(\n",
    "    host = \"localhost\",\n",
    "    user = \"root\",\n",
    "    passwd = \"Nihar@30\",\n",
    "    database = \"myvoltsone\"\n",
    ")\n",
    "\n",
    "cursor = db.cursor()\n",
    "\n",
    "# query 1\n",
    "query1 = \"select count(*) from pi_price_reduction where pi_id=null\"\n",
    "cursor.execute(query1)\n",
    "records1 = cursor.fetchall()\n",
    "\n",
    "# query 2\n",
    "query2 = \"select count(*) from amazonuk_listings where ranks='-1' or ranks='0'\"\n",
    "cursor.execute(query2)\n",
    "records2 = cursor.fetchall()\n",
    "\n",
    "# query 3\n",
    "query3 = \"select count(*) from sales where email='Q'\"\n",
    "cursor.execute(query3)\n",
    "records3 = cursor.fetchall()\n",
    "\n",
    "m=records1\n",
    "n=records2\n",
    "o=records3\n",
    "\n",
    "if ( m < n ) and ( m < o ):  \n",
    "   print (\"Pricing DB;Null_values;Quality\",\n",
    "          file=open(\"H:/DCU Study/MCM Pracs/Dataset/Output/Quality_Null_values.csv\", \"a\"))\n",
    "countPrice_element = countPrice_element+1\n",
    "\n",
    "if ( n < m ) and (n < o):\n",
    "   print (\"Amazon DB has least duplicates;Null_values;Quality\",file=open(\"H:/DCU Study/MCM Pracs/Dataset/Output/Quality_Null_values.csv\", \"a\"))\n",
    "#countAmazon_element=countAmazon_element+1\n",
    "\n",
    "\n",
    "if ( o < m ) and (o < n):\n",
    "   print (\"Sales DB has least duplicates;Null_values;Quality\",file=open(\"H:/DCU Study/MCM Pracs/Dataset/Output/Quality_Null_values.csv\", \"a\"))\n",
    "#countSales_element = countSales_element+1\n",
    "\n",
    "from sqlalchemy import create_engine\n",
    "column_names= ['Techoutput','Metric','Dimension']\n",
    "df = pd.read_csv(r'H:/DCU Study/MCM Pracs/Dataset/Output/Quality_Null_values.csv', header = None, names = column_names,delimiter=';')\n",
    "print(df)\n",
    "engine = create_engine('mysql://root:Nihar@30@localhost:3306/myvoltsone')\n",
    "with engine.connect() as conn, conn.begin():\n",
    "    df.to_sql('techrecords', conn, if_exists='append', index=False)"
   ]
  },
  {
   "cell_type": "code",
   "execution_count": 46,
   "metadata": {
    "scrolled": true
   },
   "outputs": [
    {
     "name": "stdout",
     "output_type": "stream",
     "text": [
      "  Techoutput           Metric    Dimension\n",
      "0   Sales DB  Confidentiality  Legislative\n"
     ]
    }
   ],
   "source": [
    "# script to find Legislative-Confidential_Data\n",
    "\n",
    "\n",
    "import mysql.connector as mysql\n",
    "\n",
    "db = mysql.connect(\n",
    "    host = \"localhost\",\n",
    "    user = \"root\",\n",
    "    passwd = \"Nihar@30\",\n",
    "    database = \"myvoltsone\"\n",
    ")\n",
    "\n",
    "cursor = db.cursor()\n",
    "\n",
    "# query 1\n",
    "query1 = \"select count(email) from sales\"\n",
    "cursor.execute(query1)\n",
    "records1 = cursor.fetchall()\n",
    "\n",
    "p=records1\n",
    "\n",
    "if p != 0 :  \n",
    "   print (\"Sales DB;Confidentiality;Legislative\",\n",
    "          file=open(\"H:/DCU Study/MCM Pracs/Dataset/Output/Legislative_ConfidentialData.csv\", \"a\"))\n",
    "countSales_element = countSales_element+1\n",
    "\n",
    "from sqlalchemy import create_engine\n",
    "column_names= ['Techoutput','Metric','Dimension']\n",
    "df = pd.read_csv(r'H:/DCU Study/MCM Pracs/Dataset/Output/Legislative_ConfidentialData.csv', header = None, names = column_names,delimiter=';')\n",
    "print(df)\n",
    "engine = create_engine('mysql://root:Nihar@30@localhost:3306/myvoltsone')\n",
    "with engine.connect() as conn, conn.begin():\n",
    "    df.to_sql('techrecords', conn, if_exists='append', index=False)\n"
   ]
  },
  {
   "cell_type": "markdown",
   "metadata": {},
   "source": [
    "# Calculate Datavalue"
   ]
  },
  {
   "cell_type": "code",
   "execution_count": 47,
   "metadata": {},
   "outputs": [
    {
     "name": "stdout",
     "output_type": "stream",
     "text": [
      "   Id       Db_Name  Data_value\n",
      "0   1    Amazon DB            2\n",
      "1   2   Pricing DB            4\n",
      "2   3     Sales DB            2\n"
     ]
    }
   ],
   "source": [
    "# Finding database value count\n",
    "\n",
    "print(\"1\",\",\",\"Amazon DB\",\",\",countAmazon_element,file=open(\"H:/DCU Study/MCM Pracs/Dataset/Output/countDB.csv\", \"a\"))\n",
    "print(\"2\",\",\",\"Pricing DB\",\",\",countPrice_element,file=open(\"H:/DCU Study/MCM Pracs/Dataset/Output/countDB.csv\", \"a\"))\n",
    "print(\"3\",\",\",\"Sales DB\",\",\",countSales_element,file=open(\"H:/DCU Study/MCM Pracs/Dataset/Output/countDB.csv\", \"a\"))\n",
    "\n",
    "from sqlalchemy import create_engine\n",
    "column_names= ['Id','Db_Name','Data_value']\n",
    "df = pd.read_csv(r'H:/DCU Study/MCM Pracs/Dataset/Output/countDB.csv', header = None, names = column_names,delimiter=',')\n",
    "print(df)\n",
    "engine = create_engine('mysql://root:Nihar@30@localhost:3306/myvoltsone')\n",
    "with engine.connect() as conn, conn.begin():\n",
    "    df.to_sql('valuecount', conn, if_exists='append', index=False)"
   ]
  },
  {
   "cell_type": "code",
   "execution_count": 48,
   "metadata": {},
   "outputs": [],
   "source": [
    "# Delete Files\n",
    "import os\n",
    "os.remove(r\"H:\\DCU Study\\MCM Pracs\\Dataset\\Output\\countDB.csv\")\n",
    "os.remove(r\"H:\\DCU Study\\MCM Pracs\\Dataset\\Output\\Legislative_ConfidentialData.csv\")\n",
    "os.remove(r\"H:\\DCU Study\\MCM Pracs\\Dataset\\Output\\Quality_Duplicates.csv\")\n",
    "os.remove(r\"H:\\DCU Study\\MCM Pracs\\Dataset\\Output\\Quality_Null_values.csv\")\n",
    "os.remove(r\"H:\\DCU Study\\MCM Pracs\\Dataset\\Output\\Rebuilding_new info.csv\")\n",
    "os.remove(r\"H:\\DCU Study\\MCM Pracs\\Dataset\\Output\\Security_Encryption.csv\")\n",
    "os.remove(r\"H:\\DCU Study\\MCM Pracs\\Dataset\\Output\\Usage_Most_used.csv\")\n",
    "os.remove(r\"H:\\DCU Study\\MCM Pracs\\Dataset\\Output\\Volume_interconnection.csv\")\n",
    "os.remove(r\"H:\\DCU Study\\MCM Pracs\\Dataset\\Output\\Volume_record_count.csv\")"
   ]
  }
 ],
 "metadata": {
  "kernelspec": {
   "display_name": "Python 3",
   "language": "python",
   "name": "python3"
  },
  "language_info": {
   "codemirror_mode": {
    "name": "ipython",
    "version": 3
   },
   "file_extension": ".py",
   "mimetype": "text/x-python",
   "name": "python",
   "nbconvert_exporter": "python",
   "pygments_lexer": "ipython3",
   "version": "3.7.1"
  }
 },
 "nbformat": 4,
 "nbformat_minor": 2
}
